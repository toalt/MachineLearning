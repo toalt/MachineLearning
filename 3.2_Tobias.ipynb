{
 "cells": [
  {
   "cell_type": "markdown",
   "metadata": {},
   "source": [
    "## Praktikum Maschinelles Lernen WS 15/16"
   ]
  },
  {
   "cell_type": "markdown",
   "metadata": {},
   "source": [
    " <table>\n",
    "  <tr>\n",
    "    <td>Name</td>\n",
    "    <td>Vorname</td>\n",
    "    <td>Matrikelnummer</td>\n",
    "    <td>Datum</td>\n",
    "  </tr>\n",
    "  <tr>\n",
    "    <td>Alt</td>\n",
    "    <td>Tobias</td>\n",
    "    <td>282385</td>\n",
    "    <td>09.01.2016</td>\n",
    "  </tr>\n",
    "</table> "
   ]
  },
  {
   "cell_type": "markdown",
   "metadata": {},
   "source": [
    "## Vergleich mit Gaussian Naïve Bayes"
   ]
  },
  {
   "cell_type": "code",
   "execution_count": 82,
   "metadata": {
    "collapsed": false
   },
   "outputs": [],
   "source": [
    "import pandas as pd\n",
    "import numpy as np\n",
    "import matplotlib.pyplot as plt\n",
    "import os\n",
    "import math\n",
    "\n",
    "from skimage import io\n",
    "from skimage.transform import resize\n",
    "from random import shuffle\n",
    "from scipy import stats\n",
    "import matplotlib.cm as cm"
   ]
  },
  {
   "cell_type": "code",
   "execution_count": 83,
   "metadata": {
    "collapsed": false
   },
   "outputs": [],
   "source": [
    "def createCluster1(ypos,numberOfData,clusterDistance,varianz):\n",
    "    #sigma = sqrt(clusterBright) # mean and standard deviation\n",
    "    mu = clusterDistance         #loc Paramter -> Abstand\n",
    "    sigma = sqrt(varianz)        #scale Parameter -> Clusterbreite\n",
    "    sizeOfData = numberOfData    #Anzahl Daten\n",
    "\n",
    "    cluster = np.random.normal(ypos+mu, sigma, (sizeOfData, 2))\n",
    "    \n",
    "    return cluster"
   ]
  },
  {
   "cell_type": "code",
   "execution_count": 84,
   "metadata": {
    "collapsed": false
   },
   "outputs": [],
   "source": [
    "def createCluster2(ypos,numberOfData,clusterDistance,varianz):\n",
    "    #sigma = sqrt(clusterBright) # mean and standard deviation\n",
    "    mu = clusterDistance         #loc Paramter -> Abstand\n",
    "    sigma = sqrt(varianz)        #scale Parameter -> Clusterbreite\n",
    "    sizeOfData = numberOfData    #Anzahl Daten\n",
    "\n",
    "    cluster = np.random.normal(ypos-mu, sigma, (sizeOfData, 2))\n",
    "    \n",
    "    return cluster"
   ]
  },
  {
   "cell_type": "code",
   "execution_count": 85,
   "metadata": {
    "collapsed": false
   },
   "outputs": [
    {
     "name": "stdout",
     "output_type": "stream",
     "text": [
      "(200, 2)\n",
      "(200, 2)\n"
     ]
    }
   ],
   "source": [
    "#Erzeugen der Daten (wie gewünscht einstellbar)\n",
    "#---------------------------------------------------------------------------\n",
    "varianz = 0.5      #Clusterbreite\n",
    "numberOfData = 200 #Anzahl neuer Datenpunkte pro Cluster\n",
    "mean= 1.5          #Abstand\n",
    "ypos = 0           #y-Achsen-Verschiebung\n",
    "\n",
    "Cluster1 = createCluster1(ypos,numberOfData,mean,varianz)\n",
    "Cluster2 = createCluster2(ypos,numberOfData,mean,varianz)\n",
    "\n",
    "print shape(Cluster1)\n",
    "print shape(Cluster2)"
   ]
  },
  {
   "cell_type": "code",
   "execution_count": 86,
   "metadata": {
    "collapsed": false
   },
   "outputs": [
    {
     "name": "stdout",
     "output_type": "stream",
     "text": [
      "(200, 1)\n",
      "(200, 1)\n",
      "(400, 1)\n"
     ]
    }
   ],
   "source": [
    "#Erzeugen des zugehörigen Labelvektor mit den Werten ±1\n",
    "#-------------------------------------------------------------------\n",
    "labelvector1 = np.ones((numberOfData, 1)) * -1\n",
    "labelvector2 = np.ones((numberOfData, 1)) * 1\n",
    "\n",
    "print shape(labelvector1)\n",
    "print shape(labelvector2)\n",
    "\n",
    "labels = np.vstack((labelvector1, labelvector2))\n",
    "\n",
    "print shape(labels)"
   ]
  },
  {
   "cell_type": "code",
   "execution_count": 107,
   "metadata": {
    "collapsed": false
   },
   "outputs": [
    {
     "name": "stdout",
     "output_type": "stream",
     "text": [
      "[ 1.42543991  1.5091339 ]\n",
      "[-1.42373501 -1.54178524]\n"
     ]
    }
   ],
   "source": [
    "#Mittelwert der Cluster\n",
    "meanC1 = np.mean(Cluster1, axis=0)\n",
    "meanC2 = np.mean(Cluster2, axis=0)\n",
    "\n",
    "print meanC1\n",
    "print meanC2"
   ]
  },
  {
   "cell_type": "code",
   "execution_count": 106,
   "metadata": {
    "collapsed": false
   },
   "outputs": [
    {
     "name": "stdout",
     "output_type": "stream",
     "text": [
      "[ 0.6720971   0.79254333]\n",
      "[ 0.74279045  0.72703692]\n",
      "Sigma im Vergleich:  0.707106781187\n"
     ]
    }
   ],
   "source": [
    "#Standardabweichung\n",
    "stdC1 = np.std(Cluster1, axis=0)\n",
    "stdC2 = np.std(Cluster2, axis=0)\n",
    "\n",
    "print stdC1\n",
    "print stdC2\n",
    "#Vergleich zu Sigma\n",
    "sigma = sqrt(varianz)\n",
    "print 'Sigma im Vergleich: ',sigma"
   ]
  },
  {
   "cell_type": "code",
   "execution_count": 123,
   "metadata": {
    "collapsed": false
   },
   "outputs": [
    {
     "name": "stdout",
     "output_type": "stream",
     "text": [
      "0 0\n"
     ]
    }
   ],
   "source": [
    "#A-Prioriwahrscheinlichkeit der beiden Cluster ausrechnen\n",
    "len_cluster1 = Cluster1.shape[0]\n",
    "len_cluster2 = Cluster2.shape[0]\n",
    "total_len =  len_cluster1 + len_cluster2\n",
    "\n",
    "apriori_cluster1 = len_cluster1/total_len\n",
    "apriori_cluster2 = len_cluster2/total_len\n",
    "\n",
    "print apriori_cluster1, apriori_cluster2 \n",
    "\n",
    "#Muss 0.5 rauskommen liegt evtl. an meiner python version 2.6\n",
    "#mit set_printoptions(precision=2) gehts auch nicht \n"
   ]
  },
  {
   "cell_type": "code",
   "execution_count": null,
   "metadata": {
    "collapsed": false
   },
   "outputs": [],
   "source": []
  }
 ],
 "metadata": {
  "kernelspec": {
   "display_name": "Python 2",
   "language": "python",
   "name": "python2"
  },
  "language_info": {
   "codemirror_mode": {
    "name": "ipython",
    "version": 2
   },
   "file_extension": ".py",
   "mimetype": "text/x-python",
   "name": "python",
   "nbconvert_exporter": "python",
   "pygments_lexer": "ipython2",
   "version": "2.7.10"
  }
 },
 "nbformat": 4,
 "nbformat_minor": 0
}
