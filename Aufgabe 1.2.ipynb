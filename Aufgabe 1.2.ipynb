{
 "cells": [
  {
   "cell_type": "markdown",
   "metadata": {},
   "source": [
    "# Praktikum Maschinelles Lernen WS 15/16"
   ]
  },
  {
   "cell_type": "markdown",
   "metadata": {},
   "source": [
    " <table>\n",
    "  <tr>\n",
    "    <td>Name</td>\n",
    "    <td>Vorname</td>\n",
    "    <td>Matrikelnummer</td>\n",
    "    <td>Datum</td>\n",
    "  </tr>\n",
    "  <tr>\n",
    "    <td>Alt</td>\n",
    "    <td>Tobias</td>\n",
    "    <td>282385</td>\n",
    "    <td>02.11.2015</td>\n",
    "  </tr>\n",
    "</table> "
   ]
  },
  {
   "cell_type": "markdown",
   "metadata": {},
   "source": [
    "## Aufgabe 2 - Datenvorverarbeitung mit Pandas"
   ]
  },
  {
   "cell_type": "markdown",
   "metadata": {},
   "source": [
    "Import der Python Libraries"
   ]
  },
  {
   "cell_type": "code",
   "execution_count": 38,
   "metadata": {
    "collapsed": false
   },
   "outputs": [],
   "source": [
    "import pandas as pd\n",
    "import numpy as np\n",
    "import json\n",
    "import zipfile\n",
    "import matplotlib.pyplot as plt\n",
    "\n",
    "%matplotlib inline"
   ]
  },
  {
   "cell_type": "code",
   "execution_count": 3,
   "metadata": {
    "collapsed": false
   },
   "outputs": [],
   "source": [
    "zipFile = open('foods-2011-10-03.json.zip', 'rb')\n",
    "with zipfile.ZipFile('foods-2011-10-03.json.zip', \"r\") as jsonFile:\n",
    "    jsonFile.extractall()"
   ]
  },
  {
   "cell_type": "code",
   "execution_count": 4,
   "metadata": {
    "collapsed": false
   },
   "outputs": [],
   "source": [
    "foodDB = json.load(open('foods-2011-10-03.json'))"
   ]
  },
  {
   "cell_type": "code",
   "execution_count": 5,
   "metadata": {
    "collapsed": false
   },
   "outputs": [
    {
     "data": {
      "text/plain": [
       "6636"
      ]
     },
     "execution_count": 5,
     "metadata": {},
     "output_type": "execute_result"
    }
   ],
   "source": [
    "len(foodDB)"
   ]
  },
  {
   "cell_type": "markdown",
   "metadata": {},
   "source": [
    "Zugriff auf den ersten Eintrag und Namen der Einträge ausgeben."
   ]
  },
  {
   "cell_type": "code",
   "execution_count": 6,
   "metadata": {
    "collapsed": false
   },
   "outputs": [
    {
     "data": {
      "text/plain": [
       "[u'portions',\n",
       " u'description',\n",
       " u'tags',\n",
       " u'nutrients',\n",
       " u'group',\n",
       " u'id',\n",
       " u'manufacturer']"
      ]
     },
     "execution_count": 6,
     "metadata": {},
     "output_type": "execute_result"
    }
   ],
   "source": [
    "foodDB[0].keys()"
   ]
  },
  {
   "cell_type": "markdown",
   "metadata": {},
   "source": [
    "Zugriff auf den ersten Eintrag in 'nutrients'"
   ]
  },
  {
   "cell_type": "code",
   "execution_count": 7,
   "metadata": {
    "collapsed": false
   },
   "outputs": [
    {
     "data": {
      "text/plain": [
       "{u'description': u'Protein',\n",
       " u'group': u'Composition',\n",
       " u'units': u'g',\n",
       " u'value': 25.18}"
      ]
     },
     "execution_count": 7,
     "metadata": {},
     "output_type": "execute_result"
    }
   ],
   "source": [
    "foodDB[0]['nutrients'][0]"
   ]
  },
  {
   "cell_type": "markdown",
   "metadata": {},
   "source": [
    "Für den info DataFrame ein Feld der keys anlegen.<br>\n",
    "Danach den Frame erstellen und den columns die keys zuweisen."
   ]
  },
  {
   "cell_type": "code",
   "execution_count": 8,
   "metadata": {
    "collapsed": false
   },
   "outputs": [],
   "source": [
    "info_keys = ['description','group','id','manufacturer']"
   ]
  },
  {
   "cell_type": "code",
   "execution_count": 9,
   "metadata": {
    "collapsed": false
   },
   "outputs": [],
   "source": [
    "info = pd.DataFrame(foodDB, columns=info_keys)"
   ]
  },
  {
   "cell_type": "markdown",
   "metadata": {},
   "source": [
    "Testausgabe mit den ersten 5 Einträgen"
   ]
  },
  {
   "cell_type": "code",
   "execution_count": 10,
   "metadata": {
    "collapsed": false
   },
   "outputs": [
    {
     "data": {
      "text/html": [
       "<div style=\"max-height:1000px;max-width:1500px;overflow:auto;\">\n",
       "<table border=\"1\" class=\"dataframe\">\n",
       "  <thead>\n",
       "    <tr style=\"text-align: right;\">\n",
       "      <th></th>\n",
       "      <th>description</th>\n",
       "      <th>group</th>\n",
       "      <th>id</th>\n",
       "      <th>manufacturer</th>\n",
       "    </tr>\n",
       "  </thead>\n",
       "  <tbody>\n",
       "    <tr>\n",
       "      <th>0</th>\n",
       "      <td>                    Cheese, caraway</td>\n",
       "      <td> Dairy and Egg Products</td>\n",
       "      <td> 1008</td>\n",
       "      <td> </td>\n",
       "    </tr>\n",
       "    <tr>\n",
       "      <th>1</th>\n",
       "      <td>                    Cheese, cheddar</td>\n",
       "      <td> Dairy and Egg Products</td>\n",
       "      <td> 1009</td>\n",
       "      <td> </td>\n",
       "    </tr>\n",
       "    <tr>\n",
       "      <th>2</th>\n",
       "      <td>                       Cheese, edam</td>\n",
       "      <td> Dairy and Egg Products</td>\n",
       "      <td> 1018</td>\n",
       "      <td> </td>\n",
       "    </tr>\n",
       "    <tr>\n",
       "      <th>3</th>\n",
       "      <td>                       Cheese, feta</td>\n",
       "      <td> Dairy and Egg Products</td>\n",
       "      <td> 1019</td>\n",
       "      <td> </td>\n",
       "    </tr>\n",
       "    <tr>\n",
       "      <th>4</th>\n",
       "      <td> Cheese, mozzarella, part skim milk</td>\n",
       "      <td> Dairy and Egg Products</td>\n",
       "      <td> 1028</td>\n",
       "      <td> </td>\n",
       "    </tr>\n",
       "  </tbody>\n",
       "</table>\n",
       "</div>"
      ],
      "text/plain": [
       "                          description                   group    id  \\\n",
       "0                     Cheese, caraway  Dairy and Egg Products  1008   \n",
       "1                     Cheese, cheddar  Dairy and Egg Products  1009   \n",
       "2                        Cheese, edam  Dairy and Egg Products  1018   \n",
       "3                        Cheese, feta  Dairy and Egg Products  1019   \n",
       "4  Cheese, mozzarella, part skim milk  Dairy and Egg Products  1028   \n",
       "\n",
       "  manufacturer  \n",
       "0               \n",
       "1               \n",
       "2               \n",
       "3               \n",
       "4               "
      ]
     },
     "execution_count": 10,
     "metadata": {},
     "output_type": "execute_result"
    }
   ],
   "source": [
    "info[:5]"
   ]
  },
  {
   "cell_type": "markdown",
   "metadata": {},
   "source": [
    "Alle Nährstofflisten in ein Array von DataFrames konvertieren.<br>\n",
    "Nahrungsmittel ID als Spalte anhängen. "
   ]
  },
  {
   "cell_type": "code",
   "execution_count": 11,
   "metadata": {
    "collapsed": false
   },
   "outputs": [],
   "source": [
    "nutrients = []\n",
    "\n",
    "for rec in foodDB:\n",
    "    foodNutrients = pd.DataFrame(rec['nutrients'])\n",
    "    foodNutrients['id'] = rec['id']\n",
    "    nutrients.append(foodNutrients)\n"
   ]
  },
  {
   "cell_type": "code",
   "execution_count": 12,
   "metadata": {
    "collapsed": false
   },
   "outputs": [],
   "source": [
    "nutrients = pd.concat(nutrients, ignore_index=True)"
   ]
  },
  {
   "cell_type": "markdown",
   "metadata": {},
   "source": [
    "Wieviele Duplikate sind enthalten ?"
   ]
  },
  {
   "cell_type": "code",
   "execution_count": 13,
   "metadata": {
    "collapsed": false
   },
   "outputs": [
    {
     "data": {
      "text/plain": [
       "14179"
      ]
     },
     "execution_count": 13,
     "metadata": {},
     "output_type": "execute_result"
    }
   ],
   "source": [
    "nutrients.duplicated().sum()"
   ]
  },
  {
   "cell_type": "markdown",
   "metadata": {},
   "source": [
    "Duplikate entfernen."
   ]
  },
  {
   "cell_type": "code",
   "execution_count": 14,
   "metadata": {
    "collapsed": false
   },
   "outputs": [],
   "source": [
    "nutrients = nutrients.drop_duplicates()"
   ]
  },
  {
   "cell_type": "markdown",
   "metadata": {},
   "source": [
    "describtion und group jeweils eindeutig umbenennen. "
   ]
  },
  {
   "cell_type": "code",
   "execution_count": 15,
   "metadata": {
    "collapsed": false
   },
   "outputs": [],
   "source": [
    "col_mapping = {'description' : 'food',\n",
    "               'group' : 'foodGroup'}"
   ]
  },
  {
   "cell_type": "code",
   "execution_count": 16,
   "metadata": {
    "collapsed": false
   },
   "outputs": [],
   "source": [
    "info = info.rename(columns=col_mapping, copy=False)"
   ]
  },
  {
   "cell_type": "code",
   "execution_count": 17,
   "metadata": {
    "collapsed": false
   },
   "outputs": [
    {
     "name": "stdout",
     "output_type": "stream",
     "text": [
      "<class 'pandas.core.frame.DataFrame'>\n",
      "Int64Index: 6636 entries, 0 to 6635\n",
      "Data columns (total 4 columns):\n",
      "food            6636 non-null object\n",
      "foodGroup       6636 non-null object\n",
      "id              6636 non-null int64\n",
      "manufacturer    5195 non-null object\n",
      "dtypes: int64(1), object(3)\n",
      "memory usage: 259.2 KB\n"
     ]
    }
   ],
   "source": [
    "info.info()"
   ]
  },
  {
   "cell_type": "code",
   "execution_count": 18,
   "metadata": {
    "collapsed": false
   },
   "outputs": [],
   "source": [
    "col_mapping = {'description' : 'nutrients',\n",
    "               'group' : 'nutGroup'}"
   ]
  },
  {
   "cell_type": "code",
   "execution_count": 19,
   "metadata": {
    "collapsed": false
   },
   "outputs": [],
   "source": [
    "nutrients = nutrients.rename(columns=col_mapping, copy=False)"
   ]
  },
  {
   "cell_type": "code",
   "execution_count": 20,
   "metadata": {
    "collapsed": false
   },
   "outputs": [
    {
     "name": "stdout",
     "output_type": "stream",
     "text": [
      "<class 'pandas.core.frame.DataFrame'>\n",
      "Int64Index: 375176 entries, 0 to 389354\n",
      "Data columns (total 5 columns):\n",
      "nutrients    375176 non-null object\n",
      "nutGroup     375176 non-null object\n",
      "units        375176 non-null object\n",
      "value        375176 non-null float64\n",
      "id           375176 non-null int64\n",
      "dtypes: float64(1), int64(1), object(3)\n",
      "memory usage: 17.2 MB\n"
     ]
    }
   ],
   "source": [
    "nutrients.info()"
   ]
  },
  {
   "cell_type": "markdown",
   "metadata": {},
   "source": [
    "Merge anhand der ID"
   ]
  },
  {
   "cell_type": "code",
   "execution_count": 21,
   "metadata": {
    "collapsed": false
   },
   "outputs": [],
   "source": [
    "allData = pd.merge(nutrients, info, on='id', how='outer')"
   ]
  },
  {
   "cell_type": "code",
   "execution_count": 22,
   "metadata": {
    "collapsed": false
   },
   "outputs": [
    {
     "data": {
      "text/html": [
       "<div style=\"max-height:1000px;max-width:1500px;overflow:auto;\">\n",
       "<table border=\"1\" class=\"dataframe\">\n",
       "  <thead>\n",
       "    <tr style=\"text-align: right;\">\n",
       "      <th></th>\n",
       "      <th>nutrients</th>\n",
       "      <th>nutGroup</th>\n",
       "      <th>units</th>\n",
       "      <th>value</th>\n",
       "      <th>id</th>\n",
       "      <th>food</th>\n",
       "      <th>foodGroup</th>\n",
       "      <th>manufacturer</th>\n",
       "    </tr>\n",
       "  </thead>\n",
       "  <tbody>\n",
       "    <tr>\n",
       "      <th>0</th>\n",
       "      <td>                     Protein</td>\n",
       "      <td> Composition</td>\n",
       "      <td>    g</td>\n",
       "      <td>  25.18</td>\n",
       "      <td> 1008</td>\n",
       "      <td> Cheese, caraway</td>\n",
       "      <td> Dairy and Egg Products</td>\n",
       "      <td> </td>\n",
       "    </tr>\n",
       "    <tr>\n",
       "      <th>1</th>\n",
       "      <td>           Total lipid (fat)</td>\n",
       "      <td> Composition</td>\n",
       "      <td>    g</td>\n",
       "      <td>  29.20</td>\n",
       "      <td> 1008</td>\n",
       "      <td> Cheese, caraway</td>\n",
       "      <td> Dairy and Egg Products</td>\n",
       "      <td> </td>\n",
       "    </tr>\n",
       "    <tr>\n",
       "      <th>2</th>\n",
       "      <td> Carbohydrate, by difference</td>\n",
       "      <td> Composition</td>\n",
       "      <td>    g</td>\n",
       "      <td>   3.06</td>\n",
       "      <td> 1008</td>\n",
       "      <td> Cheese, caraway</td>\n",
       "      <td> Dairy and Egg Products</td>\n",
       "      <td> </td>\n",
       "    </tr>\n",
       "    <tr>\n",
       "      <th>3</th>\n",
       "      <td>                         Ash</td>\n",
       "      <td>       Other</td>\n",
       "      <td>    g</td>\n",
       "      <td>   3.28</td>\n",
       "      <td> 1008</td>\n",
       "      <td> Cheese, caraway</td>\n",
       "      <td> Dairy and Egg Products</td>\n",
       "      <td> </td>\n",
       "    </tr>\n",
       "    <tr>\n",
       "      <th>4</th>\n",
       "      <td>                      Energy</td>\n",
       "      <td>      Energy</td>\n",
       "      <td> kcal</td>\n",
       "      <td> 376.00</td>\n",
       "      <td> 1008</td>\n",
       "      <td> Cheese, caraway</td>\n",
       "      <td> Dairy and Egg Products</td>\n",
       "      <td> </td>\n",
       "    </tr>\n",
       "  </tbody>\n",
       "</table>\n",
       "</div>"
      ],
      "text/plain": [
       "                     nutrients     nutGroup units   value    id  \\\n",
       "0                      Protein  Composition     g   25.18  1008   \n",
       "1            Total lipid (fat)  Composition     g   29.20  1008   \n",
       "2  Carbohydrate, by difference  Composition     g    3.06  1008   \n",
       "3                          Ash        Other     g    3.28  1008   \n",
       "4                       Energy       Energy  kcal  376.00  1008   \n",
       "\n",
       "              food               foodGroup manufacturer  \n",
       "0  Cheese, caraway  Dairy and Egg Products               \n",
       "1  Cheese, caraway  Dairy and Egg Products               \n",
       "2  Cheese, caraway  Dairy and Egg Products               \n",
       "3  Cheese, caraway  Dairy and Egg Products               \n",
       "4  Cheese, caraway  Dairy and Egg Products               "
      ]
     },
     "execution_count": 22,
     "metadata": {},
     "output_type": "execute_result"
    }
   ],
   "source": [
    "allData.head()"
   ]
  },
  {
   "cell_type": "markdown",
   "metadata": {},
   "source": [
    "Alle Daten die Zink enthalten in ein Frame."
   ]
  },
  {
   "cell_type": "code",
   "execution_count": 23,
   "metadata": {
    "collapsed": false
   },
   "outputs": [],
   "source": [
    "zincFrame = allData.loc[allData['nutrients'] == 'Zinc, Zn'] "
   ]
  },
  {
   "cell_type": "code",
   "execution_count": 24,
   "metadata": {
    "collapsed": false
   },
   "outputs": [
    {
     "data": {
      "text/html": [
       "<div style=\"max-height:1000px;max-width:1500px;overflow:auto;\">\n",
       "<table border=\"1\" class=\"dataframe\">\n",
       "  <thead>\n",
       "    <tr style=\"text-align: right;\">\n",
       "      <th></th>\n",
       "      <th>nutrients</th>\n",
       "      <th>nutGroup</th>\n",
       "      <th>units</th>\n",
       "      <th>value</th>\n",
       "      <th>id</th>\n",
       "      <th>food</th>\n",
       "      <th>foodGroup</th>\n",
       "      <th>manufacturer</th>\n",
       "    </tr>\n",
       "  </thead>\n",
       "  <tbody>\n",
       "    <tr>\n",
       "      <th>14 </th>\n",
       "      <td> Zinc, Zn</td>\n",
       "      <td> Elements</td>\n",
       "      <td> mg</td>\n",
       "      <td> 2.94</td>\n",
       "      <td> 1008</td>\n",
       "      <td>                    Cheese, caraway</td>\n",
       "      <td> Dairy and Egg Products</td>\n",
       "      <td> </td>\n",
       "    </tr>\n",
       "    <tr>\n",
       "      <th>75 </th>\n",
       "      <td> Zinc, Zn</td>\n",
       "      <td> Elements</td>\n",
       "      <td> mg</td>\n",
       "      <td> 3.11</td>\n",
       "      <td> 1009</td>\n",
       "      <td>                    Cheese, cheddar</td>\n",
       "      <td> Dairy and Egg Products</td>\n",
       "      <td> </td>\n",
       "    </tr>\n",
       "    <tr>\n",
       "      <th>151</th>\n",
       "      <td> Zinc, Zn</td>\n",
       "      <td> Elements</td>\n",
       "      <td> mg</td>\n",
       "      <td> 3.75</td>\n",
       "      <td> 1018</td>\n",
       "      <td>                       Cheese, edam</td>\n",
       "      <td> Dairy and Egg Products</td>\n",
       "      <td> </td>\n",
       "    </tr>\n",
       "    <tr>\n",
       "      <th>222</th>\n",
       "      <td> Zinc, Zn</td>\n",
       "      <td> Elements</td>\n",
       "      <td> mg</td>\n",
       "      <td> 2.88</td>\n",
       "      <td> 1019</td>\n",
       "      <td>                       Cheese, feta</td>\n",
       "      <td> Dairy and Egg Products</td>\n",
       "      <td> </td>\n",
       "    </tr>\n",
       "    <tr>\n",
       "      <th>293</th>\n",
       "      <td> Zinc, Zn</td>\n",
       "      <td> Elements</td>\n",
       "      <td> mg</td>\n",
       "      <td> 2.76</td>\n",
       "      <td> 1028</td>\n",
       "      <td> Cheese, mozzarella, part skim milk</td>\n",
       "      <td> Dairy and Egg Products</td>\n",
       "      <td> </td>\n",
       "    </tr>\n",
       "  </tbody>\n",
       "</table>\n",
       "</div>"
      ],
      "text/plain": [
       "    nutrients  nutGroup units  value    id  \\\n",
       "14   Zinc, Zn  Elements    mg   2.94  1008   \n",
       "75   Zinc, Zn  Elements    mg   3.11  1009   \n",
       "151  Zinc, Zn  Elements    mg   3.75  1018   \n",
       "222  Zinc, Zn  Elements    mg   2.88  1019   \n",
       "293  Zinc, Zn  Elements    mg   2.76  1028   \n",
       "\n",
       "                                   food               foodGroup manufacturer  \n",
       "14                      Cheese, caraway  Dairy and Egg Products               \n",
       "75                      Cheese, cheddar  Dairy and Egg Products               \n",
       "151                        Cheese, edam  Dairy and Egg Products               \n",
       "222                        Cheese, feta  Dairy and Egg Products               \n",
       "293  Cheese, mozzarella, part skim milk  Dairy and Egg Products               "
      ]
     },
     "execution_count": 24,
     "metadata": {},
     "output_type": "execute_result"
    }
   ],
   "source": [
    "zincFrame.head()"
   ]
  },
  {
   "cell_type": "markdown",
   "metadata": {},
   "source": [
    "Edamer raussuchen"
   ]
  },
  {
   "cell_type": "code",
   "execution_count": 25,
   "metadata": {
    "collapsed": false
   },
   "outputs": [
    {
     "name": "stdout",
     "output_type": "stream",
     "text": [
      "ID of Edam: 1018\n"
     ]
    },
    {
     "data": {
      "text/html": [
       "<div style=\"max-height:1000px;max-width:1500px;overflow:auto;\">\n",
       "<table border=\"1\" class=\"dataframe\">\n",
       "  <thead>\n",
       "    <tr style=\"text-align: right;\">\n",
       "      <th></th>\n",
       "      <th>nutrients</th>\n",
       "      <th>nutGroup</th>\n",
       "      <th>units</th>\n",
       "      <th>value</th>\n",
       "      <th>id</th>\n",
       "      <th>food</th>\n",
       "      <th>foodGroup</th>\n",
       "      <th>manufacturer</th>\n",
       "    </tr>\n",
       "  </thead>\n",
       "  <tbody>\n",
       "    <tr>\n",
       "      <th>151</th>\n",
       "      <td> Zinc, Zn</td>\n",
       "      <td> Elements</td>\n",
       "      <td> mg</td>\n",
       "      <td> 3.75</td>\n",
       "      <td> 1018</td>\n",
       "      <td> Cheese, edam</td>\n",
       "      <td> Dairy and Egg Products</td>\n",
       "      <td> </td>\n",
       "    </tr>\n",
       "  </tbody>\n",
       "</table>\n",
       "</div>"
      ],
      "text/plain": [
       "    nutrients  nutGroup units  value    id          food  \\\n",
       "151  Zinc, Zn  Elements    mg   3.75  1018  Cheese, edam   \n",
       "\n",
       "                  foodGroup manufacturer  \n",
       "151  Dairy and Egg Products               "
      ]
     },
     "execution_count": 25,
     "metadata": {},
     "output_type": "execute_result"
    }
   ],
   "source": [
    "\n",
    "edamer = allData['food']=='Cheese, edam'\n",
    "edamer = allData[edamer]\n",
    "#find Edamer in Zinktable\n",
    "edamer =edamer[edamer['nutrients']=='Zinc, Zn']\n",
    "#print ID of Edamer\n",
    "print 'ID of Edam:', int(edamer['id'])\n",
    "edamer"
   ]
  },
  {
   "cell_type": "markdown",
   "metadata": {},
   "source": [
    "Auswertung vom durchschnittlichen Zinkgehalt der einzelnen Nahrungsgruppen.<br>\n",
    "value = mg"
   ]
  },
  {
   "cell_type": "code",
   "execution_count": 39,
   "metadata": {
    "collapsed": false
   },
   "outputs": [],
   "source": [
    "medZinc = allData.groupby(['nutrients', 'foodGroup'])['value'].mean()"
   ]
  },
  {
   "cell_type": "code",
   "execution_count": 40,
   "metadata": {
    "collapsed": false
   },
   "outputs": [
    {
     "data": {
      "text/plain": [
       "<matplotlib.axes._subplots.AxesSubplot at 0x7ff33b77da10>"
      ]
     },
     "execution_count": 40,
     "metadata": {},
     "output_type": "execute_result"
    },
    {
     "data": {
      "image/png": "[encoded data removed]",
      "text/plain": [
       "<matplotlib.figure.Figure at 0x7ff351e5d310>"
      ]
     },
     "metadata": {},
     "output_type": "display_data"
    }
   ],
   "source": [
    "medZinc['Zinc, Zn'].order().plot(kind='barh')"
   ]
  },
  {
   "cell_type": "code",
   "execution_count": 41,
   "metadata": {
    "collapsed": false
   },
   "outputs": [
    {
     "data": {
      "text/plain": [
       "foodGroup\n",
       "Fats and Oils                        0.138556\n",
       "Fruits and Fruit Juices              0.143196\n",
       "Beverages                            0.239386\n",
       "Soups, Sauces, and Gravies           0.467564\n",
       "Vegetables and Vegetable Products    0.483308\n",
       "Meals, Entrees, and Sidedishes       0.716585\n",
       "Sweets                               0.743369\n",
       "Baked Products                       0.822194\n",
       "Baby Foods                           1.330622\n",
       "Fast Foods                           1.336818\n",
       "Restaurant Foods                     1.378627\n",
       "Cereal Grains and Pasta              1.487363\n",
       "Dairy and Egg Products               1.930396\n",
       "Legumes and Legume Products          2.012952\n",
       "Ethnic Foods                         2.063824\n",
       "Snacks                               2.211039\n",
       "Sausages and Luncheon Meats          2.247130\n",
       "Spices and Herbs                     2.391220\n",
       "Pork Products                        2.413720\n",
       "Poultry Products                     2.549130\n",
       "Finfish and Shellfish Products       2.918000\n",
       "Nut and Seed Products                3.860078\n",
       "Lamb, Veal, and Game Products        4.098909\n",
       "Beef Products                        5.869094\n",
       "Breakfast Cereals                    6.068359\n",
       "Name: value, dtype: float64"
      ]
     },
     "execution_count": 41,
     "metadata": {},
     "output_type": "execute_result"
    }
   ],
   "source": [
    "medZinc['Zinc, Zn'].order()"
   ]
  },
  {
   "cell_type": "code",
   "execution_count": 42,
   "metadata": {
    "collapsed": false
   },
   "outputs": [],
   "source": [
    "histolist=[]\n",
    "for element in zincFrame['value']:\n",
    "    histolist.append(element)"
   ]
  },
  {
   "cell_type": "code",
   "execution_count": 43,
   "metadata": {
    "collapsed": false
   },
   "outputs": [
    {
     "data": {
      "image/png": "[encoded data removed]",
      "text/plain": [
       "<matplotlib.figure.Figure at 0x7ff337bf8b10>"
      ]
     },
     "metadata": {},
     "output_type": "display_data"
    }
   ],
   "source": [
    "plt.hist(histolist,bins=90,alpha=0.6, label='Zinkgehalt in Produkten');\n",
    "plt.title(\"Histogramm des Zinkgehaltes\")\n",
    "plt.xlabel(\"mg\")\n",
    "plt.ylabel(\"enthalten in x-Produkten\")\n",
    "plt.legend(loc='upper right')\n",
    "plt.show()"
   ]
  },
  {
   "cell_type": "markdown",
   "metadata": {},
   "source": [
    "Liste deskriptiver Statistiken"
   ]
  },
  {
   "cell_type": "code",
   "execution_count": 47,
   "metadata": {
    "collapsed": false
   },
   "outputs": [
    {
     "name": "stdout",
     "output_type": "stream",
     "text": [
      " Range: from 0.0 to 90.95\n",
      "Mean: 2.22858888708\n",
      "Median: 0.98\n",
      "Number of elements: 6137\n",
      "Number of unique Elements: 894\n",
      "frequency(Häufigkeit) of every different kategory:\n",
      "0.00    95\n",
      "0.07    72\n",
      "0.20    65\n",
      "0.04    62\n",
      "0.01    61\n",
      "0.10    61\n",
      "0.02    56\n",
      "0.05    53\n",
      "0.08    52\n",
      "0.11    52\n",
      "0.30    50\n",
      "0.18    49\n",
      "0.17    48\n",
      "0.25    47\n",
      "0.40    46\n",
      "...\n",
      "6.64     1\n",
      "4.07     1\n",
      "9.97     1\n",
      "9.22     1\n",
      "10.31    1\n",
      "90.95    1\n",
      "17.03    1\n",
      "6.16     1\n",
      "9.59     1\n",
      "7.07     1\n",
      "10.05    1\n",
      "7.60     1\n",
      "14.70    1\n",
      "7.20     1\n",
      "10.45    1\n",
      "Length: 894, dtype: int64\n",
      "\n",
      "describe:\n",
      "count    6137.000000\n",
      "mean        2.228589\n",
      "std         3.975321\n",
      "min         0.000000\n",
      "25%         0.340000\n",
      "50%         0.980000\n",
      "75%         2.980000\n",
      "max        90.950000\n",
      "Name: value, dtype: float64\n"
     ]
    }
   ],
   "source": [
    "#Range of Value\n",
    "print 'Range: from',min(histolist),'to', max(histolist)\n",
    "#Mean(Durchschnitt)\n",
    "print 'Mean:',np.mean(histolist)\n",
    "#Median(Mittlerer Wert)\n",
    "print 'Median:',np.median(histolist)\n",
    "#Length of list\n",
    "print 'Number of elements:',len(zincFrame)\n",
    "print 'Number of unique Elements:',len(np.unique(histolist))\n",
    "print 'frequency(Häufigkeit) of every different kategory:\\n',zincFrame['value'].value_counts()\n",
    "print  '\\ndescribe:\\n',zincFrame['value'].describe()"
   ]
  },
  {
   "cell_type": "markdown",
   "metadata": {},
   "source": [
    "Edamer über Durchschnitt ?"
   ]
  },
  {
   "cell_type": "code",
   "execution_count": 48,
   "metadata": {
    "collapsed": false
   },
   "outputs": [
    {
     "data": {
      "text/plain": [
       "151    3.75\n",
       "Name: value, dtype: float64"
      ]
     },
     "execution_count": 48,
     "metadata": {},
     "output_type": "execute_result"
    }
   ],
   "source": [
    "edamer['value']"
   ]
  },
  {
   "cell_type": "code",
   "execution_count": 50,
   "metadata": {
    "collapsed": false
   },
   "outputs": [
    {
     "name": "stdout",
     "output_type": "stream",
     "text": [
      " Durchschnitt ist: 2.22858888708\n"
     ]
    }
   ],
   "source": [
    "print 'Durchschnitt ist:',np.mean(histolist)"
   ]
  },
  {
   "cell_type": "code",
   "execution_count": 54,
   "metadata": {
    "collapsed": false
   },
   "outputs": [
    {
     "name": "stdout",
     "output_type": "stream",
     "text": [
      " Do 75% of all food have less zinc than Edam: yes\n",
      "Do more than 75% of all food have less zinc than Edam: yes\n",
      "number of products less than Edam (3.750000):  4948 products\n"
     ]
    }
   ],
   "source": [
    "print 'Do 75% of all food have less zinc than Edam:', 'yes' if (zincFrame['value'].describe()['75%']<np.double(edamer['value'])) else 'no Edamer has %f and mean is: %f'%(double(edamer['value']),zinklist['value'].describe()['75%']);\n",
    "#more than 75%\n",
    "tmp = zincFrame['value']<np.double(edamer['value'])\n",
    "tmp = zincFrame[tmp]\n",
    "tmp = len(tmp)\n",
    "prozent75 = 75* len(zincFrame) /100\n",
    "\n",
    "print 'Do more than 75% of all food have less zinc than Edam:', 'yes' if (prozent75<tmp) else 'no';\n",
    "print 'number of products less than Edam (%f):  %d products' %(np.double(edamer['value']),tmp);"
   ]
  },
  {
   "cell_type": "markdown",
   "metadata": {},
   "source": [
    "Maximales Zinkgehalt ??"
   ]
  },
  {
   "cell_type": "code",
   "execution_count": 55,
   "metadata": {
    "collapsed": false
   },
   "outputs": [
    {
     "name": "stdout",
     "output_type": "stream",
     "text": [
      "Name of the product with the most zinc:  333726    Mollusks, oyster, eastern, canned\n",
      "Name: food, dtype: object\n"
     ]
    },
    {
     "data": {
      "text/html": [
       "<div style=\"max-height:1000px;max-width:1500px;overflow:auto;\">\n",
       "<table border=\"1\" class=\"dataframe\">\n",
       "  <thead>\n",
       "    <tr style=\"text-align: right;\">\n",
       "      <th></th>\n",
       "      <th>nutrients</th>\n",
       "      <th>nutGroup</th>\n",
       "      <th>units</th>\n",
       "      <th>value</th>\n",
       "      <th>id</th>\n",
       "      <th>food</th>\n",
       "      <th>foodGroup</th>\n",
       "      <th>manufacturer</th>\n",
       "    </tr>\n",
       "  </thead>\n",
       "  <tbody>\n",
       "    <tr>\n",
       "      <th>333726</th>\n",
       "      <td> Zinc, Zn</td>\n",
       "      <td> Elements</td>\n",
       "      <td> mg</td>\n",
       "      <td> 90.95</td>\n",
       "      <td> 15170</td>\n",
       "      <td> Mollusks, oyster, eastern, canned</td>\n",
       "      <td> Finfish and Shellfish Products</td>\n",
       "      <td> </td>\n",
       "    </tr>\n",
       "  </tbody>\n",
       "</table>\n",
       "</div>"
      ],
      "text/plain": [
       "       nutrients  nutGroup units  value     id  \\\n",
       "333726  Zinc, Zn  Elements    mg  90.95  15170   \n",
       "\n",
       "                                     food                       foodGroup  \\\n",
       "333726  Mollusks, oyster, eastern, canned  Finfish and Shellfish Products   \n",
       "\n",
       "       manufacturer  \n",
       "333726               "
      ]
     },
     "execution_count": 55,
     "metadata": {},
     "output_type": "execute_result"
    }
   ],
   "source": [
    "listmax = zincFrame[zincFrame.value==zincFrame.value.max()] \n",
    "print 'Name of the product with the most zinc: ', listmax['food']\n",
    "listmax"
   ]
  },
  {
   "cell_type": "code",
   "execution_count": 60,
   "metadata": {
    "collapsed": false
   },
   "outputs": [
    {
     "data": {
      "application/json": {
       "Software versions": [
        {
         "module": "Python",
         "version": "2.7.10 64bit [GCC 5.2.1 20151010]"
        },
        {
         "module": "IPython",
         "version": "4.0.1"
        },
        {
         "module": "OS",
         "version": "Linux 4.2.0 16 generic x86_64 with Ubuntu 15.10 wily"
        },
        {
         "module": "pandas",
         "version": "0.15.0"
        },
        {
         "module": "numpy",
         "version": "1.8.2"
        },
        {
         "module": "scipy",
         "version": "0.14.1"
        },
        {
         "module": "matplotlib",
         "version": "1.4.2"
        },
        {
         "module": "sympy",
         "version": "0.7.6"
        }
       ]
      },
      "text/html": [
       "<table><tr><th>Software</th><th>Version</th></tr><tr><td>Python</td><td>2.7.10 64bit [GCC 5.2.1 20151010]</td></tr><tr><td>IPython</td><td>4.0.1</td></tr><tr><td>OS</td><td>Linux 4.2.0 16 generic x86_64 with Ubuntu 15.10 wily</td></tr><tr><td>pandas</td><td>0.15.0</td></tr><tr><td>numpy</td><td>1.8.2</td></tr><tr><td>scipy</td><td>0.14.1</td></tr><tr><td>matplotlib</td><td>1.4.2</td></tr><tr><td>sympy</td><td>0.7.6</td></tr><tr><td colspan='2'>Tue Jan 12 16:00:00 2016 CET</td></tr></table>"
      ],
      "text/latex": [
       "\\begin{tabular}{|l|l|}\\hline\n",
       "{\\bf Software} & {\\bf Version} \\\\ \\hline\\hline\n",
       "Python & 2.7.10 64bit [GCC 5.2.1 20151010] \\\\ \\hline\n",
       "IPython & 4.0.1 \\\\ \\hline\n",
       "OS & Linux 4.2.0 16 generic x86\\_64 with Ubuntu 15.10 wily \\\\ \\hline\n",
       "pandas & 0.15.0 \\\\ \\hline\n",
       "numpy & 1.8.2 \\\\ \\hline\n",
       "scipy & 0.14.1 \\\\ \\hline\n",
       "matplotlib & 1.4.2 \\\\ \\hline\n",
       "sympy & 0.7.6 \\\\ \\hline\n",
       "\\hline \\multicolumn{2}{|l|}{Tue Jan 12 16:00:00 2016 CET} \\\\ \\hline\n",
       "\\end{tabular}\n"
      ],
      "text/plain": [
       "Software versions\n",
       "Python 2.7.10 64bit [GCC 5.2.1 20151010]\n",
       "IPython 4.0.1\n",
       "OS Linux 4.2.0 16 generic x86_64 with Ubuntu 15.10 wily\n",
       "pandas 0.15.0\n",
       "numpy 1.8.2\n",
       "scipy 0.14.1\n",
       "matplotlib 1.4.2\n",
       "sympy 0.7.6\n",
       "Tue Jan 12 16:00:00 2016 CET"
      ]
     },
     "execution_count": 60,
     "metadata": {},
     "output_type": "execute_result"
    }
   ],
   "source": [
    "%version_information pandas,numpy, scipy, matplotlib, sympy"
   ]
  }
 ],
 "metadata": {
  "kernelspec": {
   "display_name": "Python 2",
   "language": "python",
   "name": "python2"
  },
  "language_info": {
   "codemirror_mode": {
    "name": "ipython",
    "version": 2
   },
   "file_extension": ".py",
   "mimetype": "text/x-python",
   "name": "python",
   "nbconvert_exporter": "python",
   "pygments_lexer": "ipython2",
   "version": "2.7.10"
  }
 },
 "nbformat": 4,
 "nbformat_minor": 0
}
