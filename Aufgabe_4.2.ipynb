{
 "cells": [
  {
   "cell_type": "markdown",
   "metadata": {},
   "source": [
    "## 2. Testklassifikation mit Naive Bayes"
   ]
  },
  {
   "cell_type": "code",
   "execution_count": 18,
   "metadata": {
    "collapsed": true
   },
   "outputs": [],
   "source": [
    "import pandas as pd\n",
    "import numpy as np\n",
    "import matplotlib.pyplot as plt\n",
    "import math\n",
    "from numpy import linalg as LA\n",
    "import scipy as sp\n",
    "import urllib2\n",
    "from urllib2 import urlopen, URLError, HTTPError\n",
    "import tarfile as tar\n",
    "import sys\n",
    "import os\n",
    "import re\n",
    "\n",
    "%matplotlib inline"
   ]
  },
  {
   "cell_type": "code",
   "execution_count": 19,
   "metadata": {
    "collapsed": true
   },
   "outputs": [],
   "source": [
    "downloadFileName = '20news-18828.tar.gz'"
   ]
  },
  {
   "cell_type": "code",
   "execution_count": 20,
   "metadata": {
    "collapsed": false
   },
   "outputs": [],
   "source": [
    "# Get folder path containing text files\n",
    "path = os.path.curdir+'/'+downloadFileName\n",
    "folder_name = \"20news-18828/\"\n",
    "\n",
    "subFolder = ['alt.atheism', 'comp.graphics', 'sci.space', 'talk.religion.misc']\n",
    "\n",
    "tar_file = tar.open(path, mode='r:gz')\n",
    "\n",
    "for dir_name in subFolder:\n",
    "    subdir_and_files = [\n",
    "        tarinfo for tarinfo in tar_file.getmembers()\n",
    "        if tarinfo.name.startswith(folder_name + dir_name)\n",
    "        ]\n",
    "    tar_file.extractall(members=subdir_and_files)\n",
    "    \n",
    "tar_file.close()"
   ]
  },
  {
   "cell_type": "markdown",
   "metadata": {},
   "source": [
    "<b>Lesen Sie alle Dateien aus diesen vier Verzeichnissen in eine Array von Strings ein (d.h. ein File in einem String). Speichern Sie zusätzlich die Klassenzugehörigkeit jedes Dokuments in einem Vektor ab (Kontrolle: Sie müssten jetzt 3387 Strings im Speicher haben)</b>\n"
   ]
  },
  {
   "cell_type": "code",
   "execution_count": 21,
   "metadata": {
    "collapsed": false
   },
   "outputs": [
    {
     "name": "stdout",
     "output_type": "stream",
     "text": [
      "3387\n"
     ]
    }
   ],
   "source": [
    "data = []\n",
    "labels = []\n",
    "\n",
    "for dir_name in subFolder:\n",
    "    \n",
    "    directory_path = folder_name + dir_name\n",
    "    file_names = os.listdir(directory_path)\n",
    "    for name in file_names:\n",
    "        \n",
    "        f = open(directory_path + '/' + name, 'r')\n",
    "        data.append(f.read())\n",
    "        f.close()\n",
    "        labels.append(dir_name)\n",
    "        \n",
    "data_length = len(data)\n",
    "print data_length"
   ]
  },
  {
   "cell_type": "markdown",
   "metadata": {},
   "source": [
    "<b>Im nächsten Schritt muss jeder String in Worte (Tokens) zerlegt werden, die durch Leerzeichen, Kommas etc. voneinander getrennt sind. Hierzu setzen wir das Python-Standardpaket re ein, das zur Analyse regulärer Ausdrücke dient. Durch folgenden Befehl werden alle Tokens eines Strings textline in einer Liste l gespeichert, nachdem er zuvor mit\n",
    "lower() in Kleinbuchstaben umgewandelt wurde."
   ]
  },
  {
   "cell_type": "code",
   "execution_count": 27,
   "metadata": {
    "collapsed": false
   },
   "outputs": [],
   "source": [
    "def strip_header ( text ):\n",
    "    _before,_blankline,after = text.partition ('\\n\\n')\n",
    "    return after"
   ]
  },
  {
   "cell_type": "code",
   "execution_count": 28,
   "metadata": {
    "collapsed": true
   },
   "outputs": [],
   "source": [
    "def tokenStringToList(data):\n",
    "    l = re.compile(r\"(?u)\\b\\w\\w+\\b\").findall(data.lower())\n",
    "    return l"
   ]
  },
  {
   "cell_type": "code",
   "execution_count": 29,
   "metadata": {
    "collapsed": false
   },
   "outputs": [
    {
     "name": "stdout",
     "output_type": "stream",
     "text": [
      "41777\n"
     ]
    }
   ],
   "source": [
    "token_list = []\n",
    "\n",
    "for i in range(0, len(data)):\n",
    "    l = tokenStringToList(strip_header (data[i]))\n",
    "    \n",
    "    for j in range(0, len(l)):\n",
    "        \n",
    "        if l[j] not in token_list:\n",
    "            token_list.append(l[j])\n",
    "            \n",
    "vector_length = len(token_list)\n",
    "\n",
    "print vector_length"
   ]
  },
  {
   "cell_type": "markdown",
   "metadata": {},
   "source": [
    "<b>Berechnen Sie für jeden Text einen\n",
    "Merkmalsvektor, der für jedes Wort des Vokabulars seine Häuﬁgkeit innerhalb des Texts\n",
    "enthält."
   ]
  },
  {
   "cell_type": "code",
   "execution_count": 33,
   "metadata": {
    "collapsed": true
   },
   "outputs": [],
   "source": [
    "matrix = np.zeros((data_length, vector_length))\n",
    "\n",
    "for i in range(0, len(data)):\n",
    "    j = 0\n",
    "    for token in token_list:\n",
    "        matrix[i][j] = data[i].count(token)\n",
    "        j += 1 "
   ]
  },
  {
   "cell_type": "code",
   "execution_count": 34,
   "metadata": {
    "collapsed": false
   },
   "outputs": [
    {
     "data": {
      "text/plain": [
       "3387"
      ]
     },
     "execution_count": 34,
     "metadata": {},
     "output_type": "execute_result"
    }
   ],
   "source": [
    "len(matrix)"
   ]
  },
  {
   "cell_type": "markdown",
   "metadata": {},
   "source": [
    "<b>Verwenden Sie die ersten 60% der Daten als Trainingsdatensatz, die restlichen als Testdatensatz. Trainieren Sie damit einen multinomialen naiven Bayes-Klassiﬁkator. Bestimmen\n",
    "Sie den Anteil korrekter Klassiﬁkationen auf Ihren Trainings- und Testdaten. Wie gut\n",
    "generalisiert Ihr Klassiﬁkator?"
   ]
  }
 ],
 "metadata": {
  "kernelspec": {
   "display_name": "Python 2",
   "language": "python",
   "name": "python2"
  },
  "language_info": {
   "codemirror_mode": {
    "name": "ipython",
    "version": 2
   },
   "file_extension": ".py",
   "mimetype": "text/x-python",
   "name": "python",
   "nbconvert_exporter": "python",
   "pygments_lexer": "ipython2",
   "version": "2.7.10"
  }
 },
 "nbformat": 4,
 "nbformat_minor": 0
}
